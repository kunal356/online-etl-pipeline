{
 "cells": [
  {
   "cell_type": "code",
   "execution_count": null,
   "id": "8e724503",
   "metadata": {},
   "outputs": [],
   "source": [
    "from etl_lib.io import read_from_adls\n",
    "from utils.env_utils import get_spark_session\n",
    "from etl_lib.transformations import *\n",
    "from etl_lib.steps import comupte_gold_transformation\n",
    "import logging"
   ]
  },
  {
   "cell_type": "code",
   "execution_count": null,
   "id": "d339f264",
   "metadata": {},
   "outputs": [],
   "source": [
    "spark = get_spark_session()\n",
    "logging.basicConfig(level=logging.INFO)\n",
    "logger = logging.getLogger(__name__)"
   ]
  },
  {
   "cell_type": "code",
   "execution_count": null,
   "id": "46f3cd0c",
   "metadata": {},
   "outputs": [],
   "source": [
    "client_id = \"...\"\n",
    "client_secret = \"...\"\n",
    "tenant_id = \"...\"\n",
    "storage_account = \"stgetlprj01\"\n",
    "\n",
    "# Set up OAuth connection to ADLS Gen2\n",
    "spark.conf.set(f\"fs.azure.account.auth.type.{storage_account}.dfs.core.windows.net\", \"OAuth\")\n",
    "spark.conf.set(f\"fs.azure.account.oauth.provider.type.{storage_account}.dfs.core.windows.net\",\n",
    "               \"org.apache.hadoop.fs.azurebfs.oauth2.ClientCredsTokenProvider\")\n",
    "spark.conf.set(f\"fs.azure.account.oauth2.client.id.{storage_account}.dfs.core.windows.net\", client_id)\n",
    "spark.conf.set(f\"fs.azure.account.oauth2.client.secret.{storage_account}.dfs.core.windows.net\", client_secret)\n",
    "spark.conf.set(f\"fs.azure.account.oauth2.client.endpoint.{storage_account}.dfs.core.windows.net\",\n",
    "               f\"https://login.microsoftonline.com/{tenant_id}/oauth2/token\")"
   ]
  },
  {
   "cell_type": "code",
   "execution_count": null,
   "id": "2a90ac84",
   "metadata": {},
   "outputs": [],
   "source": [
    "path = f\"abfss://silver@{storage_account}.dfs.core.windows.net/retail/*.parquet\"\n",
    "df_silver = read_from_adls(path=path, spark=spark, file_format=\"parquet\")"
   ]
  },
  {
   "cell_type": "code",
   "execution_count": null,
   "id": "d121bd7b",
   "metadata": {},
   "outputs": [],
   "source": [
    "\n",
    "path = f\"abfss://gold@{storage_account}.dfs.core.windows.net/retail\"\n",
    "comupte_gold_transformation(df=df_silver, base_path=path, n=10)\n"
   ]
  }
 ],
 "metadata": {
  "kernelspec": {
   "display_name": "Python 3",
   "language": "python",
   "name": "python3"
  },
  "language_info": {
   "name": "python",
   "version": "3.12.11"
  }
 },
 "nbformat": 4,
 "nbformat_minor": 5
}
